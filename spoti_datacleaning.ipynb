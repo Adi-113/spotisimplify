{
 "cells": [
  {
   "cell_type": "code",
   "execution_count": 18,
   "metadata": {},
   "outputs": [],
   "source": [
    "import streamlit as st\n",
    "import pandas as pd\n",
    "import matplotlib.pyplot as plt"
   ]
  },
  {
   "cell_type": "code",
   "execution_count": 19,
   "metadata": {},
   "outputs": [
    {
     "data": {
      "text/html": [
       "<div>\n",
       "<style scoped>\n",
       "    .dataframe tbody tr th:only-of-type {\n",
       "        vertical-align: middle;\n",
       "    }\n",
       "\n",
       "    .dataframe tbody tr th {\n",
       "        vertical-align: top;\n",
       "    }\n",
       "\n",
       "    .dataframe thead th {\n",
       "        text-align: right;\n",
       "    }\n",
       "</style>\n",
       "<table border=\"1\" class=\"dataframe\">\n",
       "  <thead>\n",
       "    <tr style=\"text-align: right;\">\n",
       "      <th></th>\n",
       "      <th>Unnamed: 0</th>\n",
       "      <th>Artist_Name</th>\n",
       "      <th>Genre</th>\n",
       "      <th>Followers</th>\n",
       "      <th>Album</th>\n",
       "      <th>Release date</th>\n",
       "    </tr>\n",
       "  </thead>\n",
       "  <tbody>\n",
       "    <tr>\n",
       "      <th>0</th>\n",
       "      <td>0</td>\n",
       "      <td>Taylor Swift</td>\n",
       "      <td>['pop']</td>\n",
       "      <td>89729802</td>\n",
       "      <td>Speak Now (Taylor's Version)</td>\n",
       "      <td>2023-07-07</td>\n",
       "    </tr>\n",
       "    <tr>\n",
       "      <th>1</th>\n",
       "      <td>1</td>\n",
       "      <td>Taylor Swift</td>\n",
       "      <td>['pop']</td>\n",
       "      <td>89729802</td>\n",
       "      <td>Midnights (The Til Dawn Edition)</td>\n",
       "      <td>2023-05-26</td>\n",
       "    </tr>\n",
       "    <tr>\n",
       "      <th>2</th>\n",
       "      <td>2</td>\n",
       "      <td>Taylor Swift</td>\n",
       "      <td>['pop']</td>\n",
       "      <td>89729802</td>\n",
       "      <td>Midnights (3am Edition)</td>\n",
       "      <td>2022-10-22</td>\n",
       "    </tr>\n",
       "    <tr>\n",
       "      <th>3</th>\n",
       "      <td>3</td>\n",
       "      <td>Taylor Swift</td>\n",
       "      <td>['pop']</td>\n",
       "      <td>89729802</td>\n",
       "      <td>Midnights</td>\n",
       "      <td>2022-10-21</td>\n",
       "    </tr>\n",
       "    <tr>\n",
       "      <th>4</th>\n",
       "      <td>4</td>\n",
       "      <td>Taylor Swift</td>\n",
       "      <td>['pop']</td>\n",
       "      <td>89729802</td>\n",
       "      <td>Red (Taylor's Version)</td>\n",
       "      <td>2021-11-12</td>\n",
       "    </tr>\n",
       "    <tr>\n",
       "      <th>...</th>\n",
       "      <td>...</td>\n",
       "      <td>...</td>\n",
       "      <td>...</td>\n",
       "      <td>...</td>\n",
       "      <td>...</td>\n",
       "      <td>...</td>\n",
       "    </tr>\n",
       "    <tr>\n",
       "      <th>597</th>\n",
       "      <td>597</td>\n",
       "      <td>The Weeknd</td>\n",
       "      <td>['canadian contemporary r&amp;b', 'canadian pop', ...</td>\n",
       "      <td>73275053</td>\n",
       "      <td>Kiss Land</td>\n",
       "      <td>2013-09-10</td>\n",
       "    </tr>\n",
       "    <tr>\n",
       "      <th>598</th>\n",
       "      <td>598</td>\n",
       "      <td>The Weeknd</td>\n",
       "      <td>['canadian contemporary r&amp;b', 'canadian pop', ...</td>\n",
       "      <td>73275053</td>\n",
       "      <td>Trilogy</td>\n",
       "      <td>2012-11-13</td>\n",
       "    </tr>\n",
       "    <tr>\n",
       "      <th>599</th>\n",
       "      <td>599</td>\n",
       "      <td>The Weeknd</td>\n",
       "      <td>['canadian contemporary r&amp;b', 'canadian pop', ...</td>\n",
       "      <td>73275053</td>\n",
       "      <td>Echoes Of Silence (Original)</td>\n",
       "      <td>2011-12-21</td>\n",
       "    </tr>\n",
       "    <tr>\n",
       "      <th>600</th>\n",
       "      <td>600</td>\n",
       "      <td>The Weeknd</td>\n",
       "      <td>['canadian contemporary r&amp;b', 'canadian pop', ...</td>\n",
       "      <td>73275053</td>\n",
       "      <td>Thursday (Original)</td>\n",
       "      <td>2011-08-18</td>\n",
       "    </tr>\n",
       "    <tr>\n",
       "      <th>601</th>\n",
       "      <td>601</td>\n",
       "      <td>The Weeknd</td>\n",
       "      <td>['canadian contemporary r&amp;b', 'canadian pop', ...</td>\n",
       "      <td>73275053</td>\n",
       "      <td>House Of Balloons (Original)</td>\n",
       "      <td>2011-03-21</td>\n",
       "    </tr>\n",
       "  </tbody>\n",
       "</table>\n",
       "<p>602 rows × 6 columns</p>\n",
       "</div>"
      ],
      "text/plain": [
       "     Unnamed: 0   Artist_Name   \n",
       "0             0  Taylor Swift  \\\n",
       "1             1  Taylor Swift   \n",
       "2             2  Taylor Swift   \n",
       "3             3  Taylor Swift   \n",
       "4             4  Taylor Swift   \n",
       "..          ...           ...   \n",
       "597         597    The Weeknd   \n",
       "598         598    The Weeknd   \n",
       "599         599    The Weeknd   \n",
       "600         600    The Weeknd   \n",
       "601         601    The Weeknd   \n",
       "\n",
       "                                                 Genre  Followers   \n",
       "0                                              ['pop']   89729802  \\\n",
       "1                                              ['pop']   89729802   \n",
       "2                                              ['pop']   89729802   \n",
       "3                                              ['pop']   89729802   \n",
       "4                                              ['pop']   89729802   \n",
       "..                                                 ...        ...   \n",
       "597  ['canadian contemporary r&b', 'canadian pop', ...   73275053   \n",
       "598  ['canadian contemporary r&b', 'canadian pop', ...   73275053   \n",
       "599  ['canadian contemporary r&b', 'canadian pop', ...   73275053   \n",
       "600  ['canadian contemporary r&b', 'canadian pop', ...   73275053   \n",
       "601  ['canadian contemporary r&b', 'canadian pop', ...   73275053   \n",
       "\n",
       "                                Album Release date  \n",
       "0        Speak Now (Taylor's Version)   2023-07-07  \n",
       "1    Midnights (The Til Dawn Edition)   2023-05-26  \n",
       "2             Midnights (3am Edition)   2022-10-22  \n",
       "3                           Midnights   2022-10-21  \n",
       "4              Red (Taylor's Version)   2021-11-12  \n",
       "..                                ...          ...  \n",
       "597                         Kiss Land   2013-09-10  \n",
       "598                           Trilogy   2012-11-13  \n",
       "599      Echoes Of Silence (Original)   2011-12-21  \n",
       "600               Thursday (Original)   2011-08-18  \n",
       "601      House Of Balloons (Original)   2011-03-21  \n",
       "\n",
       "[602 rows x 6 columns]"
      ]
     },
     "execution_count": 19,
     "metadata": {},
     "output_type": "execute_result"
    }
   ],
   "source": [
    "df=pd.read_csv(r'Spotify.csv')\n",
    "df"
   ]
  },
  {
   "cell_type": "code",
   "execution_count": 20,
   "metadata": {},
   "outputs": [],
   "source": [
    "df=df.drop(columns='Unnamed: 0')"
   ]
  },
  {
   "cell_type": "code",
   "execution_count": 21,
   "metadata": {},
   "outputs": [
    {
     "data": {
      "text/html": [
       "<div>\n",
       "<style scoped>\n",
       "    .dataframe tbody tr th:only-of-type {\n",
       "        vertical-align: middle;\n",
       "    }\n",
       "\n",
       "    .dataframe tbody tr th {\n",
       "        vertical-align: top;\n",
       "    }\n",
       "\n",
       "    .dataframe thead th {\n",
       "        text-align: right;\n",
       "    }\n",
       "</style>\n",
       "<table border=\"1\" class=\"dataframe\">\n",
       "  <thead>\n",
       "    <tr style=\"text-align: right;\">\n",
       "      <th></th>\n",
       "      <th>Followers</th>\n",
       "    </tr>\n",
       "  </thead>\n",
       "  <tbody>\n",
       "    <tr>\n",
       "      <th>count</th>\n",
       "      <td>6.020000e+02</td>\n",
       "    </tr>\n",
       "    <tr>\n",
       "      <th>mean</th>\n",
       "      <td>3.904009e+07</td>\n",
       "    </tr>\n",
       "    <tr>\n",
       "      <th>std</th>\n",
       "      <td>3.040180e+07</td>\n",
       "    </tr>\n",
       "    <tr>\n",
       "      <th>min</th>\n",
       "      <td>7.175910e+05</td>\n",
       "    </tr>\n",
       "    <tr>\n",
       "      <th>25%</th>\n",
       "      <td>1.302600e+07</td>\n",
       "    </tr>\n",
       "    <tr>\n",
       "      <th>50%</th>\n",
       "      <td>2.902232e+07</td>\n",
       "    </tr>\n",
       "    <tr>\n",
       "      <th>75%</th>\n",
       "      <td>7.027498e+07</td>\n",
       "    </tr>\n",
       "    <tr>\n",
       "      <th>max</th>\n",
       "      <td>1.148078e+08</td>\n",
       "    </tr>\n",
       "  </tbody>\n",
       "</table>\n",
       "</div>"
      ],
      "text/plain": [
       "          Followers\n",
       "count  6.020000e+02\n",
       "mean   3.904009e+07\n",
       "std    3.040180e+07\n",
       "min    7.175910e+05\n",
       "25%    1.302600e+07\n",
       "50%    2.902232e+07\n",
       "75%    7.027498e+07\n",
       "max    1.148078e+08"
      ]
     },
     "execution_count": 21,
     "metadata": {},
     "output_type": "execute_result"
    }
   ],
   "source": [
    "df.describe()"
   ]
  },
  {
   "cell_type": "code",
   "execution_count": 6,
   "metadata": {},
   "outputs": [
    {
     "name": "stdout",
     "output_type": "stream",
     "text": [
      "<class 'pandas.core.frame.DataFrame'>\n",
      "RangeIndex: 602 entries, 0 to 601\n",
      "Data columns (total 5 columns):\n",
      " #   Column        Non-Null Count  Dtype \n",
      "---  ------        --------------  ----- \n",
      " 0   Artist_Name   602 non-null    object\n",
      " 1   Genre         602 non-null    object\n",
      " 2   Followers     602 non-null    int64 \n",
      " 3   Album         602 non-null    object\n",
      " 4   Release date  602 non-null    object\n",
      "dtypes: int64(1), object(4)\n",
      "memory usage: 23.6+ KB\n"
     ]
    }
   ],
   "source": [
    "df.info()"
   ]
  },
  {
   "cell_type": "code",
   "execution_count": 7,
   "metadata": {},
   "outputs": [],
   "source": [
    "df['Release date'] = pd.to_datetime(df['Release date'], format='%Y-%m-%d')"
   ]
  },
  {
   "cell_type": "code",
   "execution_count": 20,
   "metadata": {},
   "outputs": [
    {
     "name": "stdout",
     "output_type": "stream",
     "text": [
      "<class 'pandas.core.frame.DataFrame'>\n",
      "RangeIndex: 602 entries, 0 to 601\n",
      "Data columns (total 5 columns):\n",
      " #   Column        Non-Null Count  Dtype         \n",
      "---  ------        --------------  -----         \n",
      " 0   Artist_Name   602 non-null    object        \n",
      " 1   Genre         602 non-null    object        \n",
      " 2   Followers     602 non-null    int64         \n",
      " 3   Album         602 non-null    object        \n",
      " 4   Release date  602 non-null    datetime64[ns]\n",
      "dtypes: datetime64[ns](1), int64(1), object(3)\n",
      "memory usage: 23.6+ KB\n"
     ]
    }
   ],
   "source": [
    "df.info()"
   ]
  },
  {
   "cell_type": "code",
   "execution_count": 8,
   "metadata": {},
   "outputs": [],
   "source": [
    "df['Artist_Name'] = df['Artist_Name'].astype(str)\n",
    "df['Album'] = df['Album'].astype(str)"
   ]
  },
  {
   "cell_type": "code",
   "execution_count": 9,
   "metadata": {},
   "outputs": [],
   "source": [
    "df['Genre'] = df['Genre'].astype(str)"
   ]
  },
  {
   "cell_type": "code",
   "execution_count": 10,
   "metadata": {},
   "outputs": [
    {
     "name": "stdout",
     "output_type": "stream",
     "text": [
      "<class 'pandas.core.frame.DataFrame'>\n",
      "RangeIndex: 602 entries, 0 to 601\n",
      "Data columns (total 5 columns):\n",
      " #   Column        Non-Null Count  Dtype         \n",
      "---  ------        --------------  -----         \n",
      " 0   Artist_Name   602 non-null    object        \n",
      " 1   Genre         602 non-null    object        \n",
      " 2   Followers     602 non-null    int64         \n",
      " 3   Album         602 non-null    object        \n",
      " 4   Release date  602 non-null    datetime64[ns]\n",
      "dtypes: datetime64[ns](1), int64(1), object(3)\n",
      "memory usage: 23.6+ KB\n"
     ]
    }
   ],
   "source": [
    "df.info()"
   ]
  },
  {
   "cell_type": "code",
   "execution_count": 14,
   "metadata": {},
   "outputs": [
    {
     "name": "stdout",
     "output_type": "stream",
     "text": [
      "[\"['pop']\", \"['k-pop', 'k-pop boy group', 'pop']\", \"['pop', 'singer-songwriter pop', 'uk pop']\", \"['canadian pop', 'pop', 'viral pop']\", \"['dance pop', 'pop']\", \"['pop', 'post-teen pop']\", \"['electro house']\", \"['brostep', 'edm', 'pop', 'progressive electro house']\", \"['boy band', 'pop']\", \"['r&b', 'soul']\", \"['filmi', 'modern bollywood']\", \"['dfw rap', 'melodic rap', 'pop', 'rap']\", \"['hip pop', 'pop', 'queens hip hop', 'rap']\", \"['desi hip hop', 'desi pop', 'punjabi hip hop', 'punjabi pop']\", \"['desi hip hop', 'filmi', 'tamil hip hop']\", \"['classic pakistani pop', 'filmi', 'modern bollywood', 'sufi']\", \"['alt z', 'pop', 'pov: indie']\", \"['gauze pop', 'indietronica', 'modern rock', 'pov: indie', 'shiver pop']\", \"['k-pop', 'k-pop girl group', 'pop']\", \"['art pop', 'pop']\", \"['k-pop']\", \"['pop', 'viral pop']\", \"['permanent wave', 'pop']\", \"['bedroom pop', 'pop', 'pov: indie']\", \"['latin hip hop', 'reggaeton', 'trap latino', 'urbano latino']\", \"['edm', 'electronic trap', 'pop', 'pop dance']\", \"['detroit hip hop', 'hip hop', 'rap']\", \"['anime', 'k-pop boy group']\", \"['indietronica', 'metropopolis', 'pop', 'uk pop']\", \"['k-pop', 'k-pop boy group']\", \"['k-pop girl group']\", \"['canadian pop', 'pop']\", \"['canadian hip hop', 'canadian pop', 'hip hop', 'pop rap', 'rap']\", \"['chicago rap', 'hip hop', 'rap']\", \"['pop', 'pop r&b']\", \"['lgbtq+ hip hop']\", \"['boy band', 'pop', 'post-teen pop', 'talent show']\", \"['piano rock', 'pop']\", \"['k-rap', 'korean old school hip hop']\", \"['desi emo rap', 'desi hip hop', 'desi pop', 'desi trap']\", \"['k-rap']\", \"['barbadian pop', 'pop', 'urban contemporary']\", \"['desi hip hop', 'desi pop', 'hindi indie', 'indian edm', 'indian indie']\", \"['hip hop', 'rap', 'slap house']\", \"['australian dance', 'australian pop', 'pop']\", \"['australian pop', 'pop', 'viral pop']\", \"['canadian contemporary r&b', 'canadian pop', 'pop']\"]\n",
      "pop: 26\n",
      "k-pop: 4\n",
      "k-pop boy group: 3\n",
      "singer-songwriter pop: 1\n",
      "uk pop: 2\n",
      "canadian pop: 4\n",
      "viral pop: 3\n",
      "dance pop: 1\n",
      "post-teen pop: 2\n",
      "electro house: 1\n",
      "brostep: 1\n",
      "edm: 2\n",
      "progressive electro house: 1\n",
      "boy band: 2\n",
      "r&b: 1\n",
      "soul: 1\n",
      "filmi: 3\n",
      "modern bollywood: 2\n",
      "dfw rap: 1\n",
      "melodic rap: 1\n",
      "rap: 6\n",
      "hip pop: 1\n",
      "queens hip hop: 1\n",
      "desi hip hop: 4\n",
      "desi pop: 3\n",
      "punjabi hip hop: 1\n",
      "punjabi pop: 1\n",
      "tamil hip hop: 1\n",
      "classic pakistani pop: 1\n",
      "sufi: 1\n",
      "alt z: 1\n",
      "pov: indie: 3\n",
      "gauze pop: 1\n",
      "indietronica: 2\n",
      "modern rock: 1\n",
      "shiver pop: 1\n",
      "k-pop girl group: 2\n",
      "art pop: 1\n",
      "permanent wave: 1\n",
      "bedroom pop: 1\n",
      "latin hip hop: 1\n",
      "reggaeton: 1\n",
      "trap latino: 1\n",
      "urbano latino: 1\n",
      "electronic trap: 1\n",
      "pop dance: 1\n",
      "detroit hip hop: 1\n",
      "hip hop: 4\n",
      "anime: 1\n",
      "metropopolis: 1\n",
      "canadian hip hop: 1\n",
      "pop rap: 1\n",
      "chicago rap: 1\n",
      "pop r&b: 1\n",
      "lgbtq+ hip hop: 1\n",
      "talent show: 1\n",
      "piano rock: 1\n",
      "k-rap: 2\n",
      "korean old school hip hop: 1\n",
      "desi emo rap: 1\n",
      "desi trap: 1\n",
      "barbadian pop: 1\n",
      "urban contemporary: 1\n",
      "hindi indie: 1\n",
      "indian edm: 1\n",
      "indian indie: 1\n",
      "slap house: 1\n",
      "australian dance: 1\n",
      "australian pop: 2\n",
      "canadian contemporary r&b: 1\n"
     ]
    }
   ],
   "source": [
    "# Create an empty dictionary to store genre counts\n",
    "genre_count_dict = {}\n",
    "\n",
    "# Create a DataFrame\n",
    "l = list(df['Genre'].unique())\n",
    "print(l)\n",
    "\n",
    "c=pd.DataFrame(l)\n",
    "c.columns=['Genre']\n",
    "# Iterate through each row in the DataFrame and count genres\n",
    "for row in c['Genre']:\n",
    "    genres = eval(row)\n",
    "    for genre in genres:\n",
    "        if genre in genre_count_dict:\n",
    "            genre_count_dict[genre] += 1\n",
    "        else:\n",
    "            genre_count_dict[genre] = 1\n",
    "\n",
    "# Display the genre counts in the dictionary\n",
    "for genre, count in genre_count_dict.items():\n",
    "    print(f'{genre}: {count}')\n",
    "\n"
   ]
  },
  {
   "cell_type": "code",
   "execution_count": 16,
   "metadata": {},
   "outputs": [
    {
     "name": "stdout",
     "output_type": "stream",
     "text": [
      "                        Genre  Count\n",
      "0                         pop     26\n",
      "1                       k-pop      4\n",
      "2             k-pop boy group      3\n",
      "3       singer-songwriter pop      1\n",
      "4                      uk pop      2\n",
      "..                        ...    ...\n",
      "65               indian indie      1\n",
      "66                 slap house      1\n",
      "67           australian dance      1\n",
      "68             australian pop      2\n",
      "69  canadian contemporary r&b      1\n",
      "\n",
      "[70 rows x 2 columns]\n"
     ]
    }
   ],
   "source": [
    "df = pd.DataFrame(list(genre_count_dict.items()), columns=['Genre', 'Count'])\n",
    "\n",
    "# Display the DataFrame\n",
    "print(df)"
   ]
  },
  {
   "cell_type": "code",
   "execution_count": 11,
   "metadata": {},
   "outputs": [],
   "source": [
    "df.to_csv('clean_spoti_data.csv')"
   ]
  },
  {
   "cell_type": "code",
   "execution_count": 22,
   "metadata": {},
   "outputs": [],
   "source": [
    "df1=pd.read_csv(r'clean_spoti_data.csv')\n",
    "artist_popularity = df1.groupby('Artist_Name')['Followers'].max().sort_values(ascending=False)"
   ]
  },
  {
   "cell_type": "code",
   "execution_count": 25,
   "metadata": {},
   "outputs": [
    {
     "data": {
      "text/plain": [
       "Artist_Name\n",
       "Ed Sheeran       114807815\n",
       "Ariana Grande     94156577\n",
       "Arijit Singh      92796252\n",
       "Taylor Swift      89729802\n",
       "Billie Eilish     87760945\n",
       "Name: Followers, dtype: int64"
      ]
     },
     "execution_count": 25,
     "metadata": {},
     "output_type": "execute_result"
    }
   ],
   "source": [
    "artist_popularity=artist_popularity[:5]\n",
    "artist_popularity"
   ]
  },
  {
   "cell_type": "code",
   "execution_count": 29,
   "metadata": {},
   "outputs": [
    {
     "data": {
      "text/html": [
       "<div>\n",
       "<style scoped>\n",
       "    .dataframe tbody tr th:only-of-type {\n",
       "        vertical-align: middle;\n",
       "    }\n",
       "\n",
       "    .dataframe tbody tr th {\n",
       "        vertical-align: top;\n",
       "    }\n",
       "\n",
       "    .dataframe thead th {\n",
       "        text-align: right;\n",
       "    }\n",
       "</style>\n",
       "<table border=\"1\" class=\"dataframe\">\n",
       "  <thead>\n",
       "    <tr style=\"text-align: right;\">\n",
       "      <th></th>\n",
       "      <th>Artist_Name</th>\n",
       "      <th>Followers</th>\n",
       "    </tr>\n",
       "  </thead>\n",
       "  <tbody>\n",
       "    <tr>\n",
       "      <th>0</th>\n",
       "      <td>Ed Sheeran</td>\n",
       "      <td>114807815</td>\n",
       "    </tr>\n",
       "    <tr>\n",
       "      <th>1</th>\n",
       "      <td>Ariana Grande</td>\n",
       "      <td>94156577</td>\n",
       "    </tr>\n",
       "    <tr>\n",
       "      <th>2</th>\n",
       "      <td>Arijit Singh</td>\n",
       "      <td>92796252</td>\n",
       "    </tr>\n",
       "    <tr>\n",
       "      <th>3</th>\n",
       "      <td>Taylor Swift</td>\n",
       "      <td>89729802</td>\n",
       "    </tr>\n",
       "    <tr>\n",
       "      <th>4</th>\n",
       "      <td>Billie Eilish</td>\n",
       "      <td>87760945</td>\n",
       "    </tr>\n",
       "  </tbody>\n",
       "</table>\n",
       "</div>"
      ],
      "text/plain": [
       "     Artist_Name  Followers\n",
       "0     Ed Sheeran  114807815\n",
       "1  Ariana Grande   94156577\n",
       "2   Arijit Singh   92796252\n",
       "3   Taylor Swift   89729802\n",
       "4  Billie Eilish   87760945"
      ]
     },
     "execution_count": 29,
     "metadata": {},
     "output_type": "execute_result"
    }
   ],
   "source": [
    "df2=pd.DataFrame(artist_popularity)\n",
    "df2.reset_index()"
   ]
  },
  {
   "cell_type": "code",
   "execution_count": null,
   "metadata": {},
   "outputs": [],
   "source": [
    "ImageUrl=['https://media.brstatic.com/2017/04/06171330/ed-sheeran-networth-mst.jpg','https://static.cinemagia.ro/img/db/actor/56/48/69/ariana-grande-826821l.jpg'\n",
    "          'https://3.bp.blogspot.com/-qDfAM31MRnM/V_iBA1VZJlI/AAAAAAAAEhA/GKloBO7Bkx47O7c-vY3cD09E1-7iA2aHwCLcB/s1600/arijit-singh.jpg','https://specials-images.forbesimg.com/imageserve/1164343505/960x0.jpg?fit=scale',\n",
    "          'https://th.bing.com/th/id/OIP.g3UUJOoDAKEpbv2pFqvEqwHaEK?pid=ImgDet&rs=1']"
   ]
  },
  {
   "cell_type": "code",
   "execution_count": 30,
   "metadata": {},
   "outputs": [
    {
     "ename": "ValueError",
     "evalue": "Length of values (4) does not match length of index (5)",
     "output_type": "error",
     "traceback": [
      "\u001b[1;31m---------------------------------------------------------------------------\u001b[0m",
      "\u001b[1;31mValueError\u001b[0m                                Traceback (most recent call last)",
      "\u001b[1;32mc:\\Users\\adith\\OneDrive\\Desktop\\Data Analytics\\spoti_datacleaning.ipynb Cell 18\u001b[0m line \u001b[0;36m4\n\u001b[0;32m      <a href='vscode-notebook-cell:/c%3A/Users/adith/OneDrive/Desktop/Data%20Analytics/spoti_datacleaning.ipynb#X24sZmlsZQ%3D%3D?line=0'>1</a>\u001b[0m ImageUrl\u001b[39m=\u001b[39m[\u001b[39m'\u001b[39m\u001b[39mhttps://media.brstatic.com/2017/04/06171330/ed-sheeran-networth-mst.jpg\u001b[39m\u001b[39m'\u001b[39m,\u001b[39m'\u001b[39m\u001b[39mhttps://static.cinemagia.ro/img/db/actor/56/48/69/ariana-grande-826821l.jpg\u001b[39m\u001b[39m'\u001b[39m\n\u001b[0;32m      <a href='vscode-notebook-cell:/c%3A/Users/adith/OneDrive/Desktop/Data%20Analytics/spoti_datacleaning.ipynb#X24sZmlsZQ%3D%3D?line=1'>2</a>\u001b[0m           \u001b[39m'\u001b[39m\u001b[39mhttps://3.bp.blogspot.com/-qDfAM31MRnM/V_iBA1VZJlI/AAAAAAAAEhA/GKloBO7Bkx47O7c-vY3cD09E1-7iA2aHwCLcB/s1600/arijit-singh.jpg\u001b[39m\u001b[39m'\u001b[39m,\u001b[39m'\u001b[39m\u001b[39mhttps://specials-images.forbesimg.com/imageserve/1164343505/960x0.jpg?fit=scale\u001b[39m\u001b[39m'\u001b[39m,\n\u001b[0;32m      <a href='vscode-notebook-cell:/c%3A/Users/adith/OneDrive/Desktop/Data%20Analytics/spoti_datacleaning.ipynb#X24sZmlsZQ%3D%3D?line=2'>3</a>\u001b[0m           \u001b[39m'\u001b[39m\u001b[39mhttps://th.bing.com/th/id/OIP.g3UUJOoDAKEpbv2pFqvEqwHaEK?pid=ImgDet&rs=1\u001b[39m\u001b[39m'\u001b[39m]\n\u001b[1;32m----> <a href='vscode-notebook-cell:/c%3A/Users/adith/OneDrive/Desktop/Data%20Analytics/spoti_datacleaning.ipynb#X24sZmlsZQ%3D%3D?line=3'>4</a>\u001b[0m df2[\u001b[39m'\u001b[39;49m\u001b[39mImage_Url\u001b[39;49m\u001b[39m'\u001b[39;49m]\u001b[39m=\u001b[39mImageUrl\n",
      "File \u001b[1;32m~\\AppData\\Roaming\\Python\\Python310\\site-packages\\pandas\\core\\frame.py:3959\u001b[0m, in \u001b[0;36mDataFrame.__setitem__\u001b[1;34m(self, key, value)\u001b[0m\n\u001b[0;32m   3956\u001b[0m     \u001b[39mself\u001b[39m\u001b[39m.\u001b[39m_setitem_array([key], value)\n\u001b[0;32m   3957\u001b[0m \u001b[39melse\u001b[39;00m:\n\u001b[0;32m   3958\u001b[0m     \u001b[39m# set column\u001b[39;00m\n\u001b[1;32m-> 3959\u001b[0m     \u001b[39mself\u001b[39;49m\u001b[39m.\u001b[39;49m_set_item(key, value)\n",
      "File \u001b[1;32m~\\AppData\\Roaming\\Python\\Python310\\site-packages\\pandas\\core\\frame.py:4152\u001b[0m, in \u001b[0;36mDataFrame._set_item\u001b[1;34m(self, key, value)\u001b[0m\n\u001b[0;32m   4142\u001b[0m \u001b[39mdef\u001b[39;00m \u001b[39m_set_item\u001b[39m(\u001b[39mself\u001b[39m, key, value) \u001b[39m-\u001b[39m\u001b[39m>\u001b[39m \u001b[39mNone\u001b[39;00m:\n\u001b[0;32m   4143\u001b[0m     \u001b[39m\"\"\"\u001b[39;00m\n\u001b[0;32m   4144\u001b[0m \u001b[39m    Add series to DataFrame in specified column.\u001b[39;00m\n\u001b[0;32m   4145\u001b[0m \n\u001b[1;32m   (...)\u001b[0m\n\u001b[0;32m   4150\u001b[0m \u001b[39m    ensure homogeneity.\u001b[39;00m\n\u001b[0;32m   4151\u001b[0m \u001b[39m    \"\"\"\u001b[39;00m\n\u001b[1;32m-> 4152\u001b[0m     value \u001b[39m=\u001b[39m \u001b[39mself\u001b[39;49m\u001b[39m.\u001b[39;49m_sanitize_column(value)\n\u001b[0;32m   4154\u001b[0m     \u001b[39mif\u001b[39;00m (\n\u001b[0;32m   4155\u001b[0m         key \u001b[39min\u001b[39;00m \u001b[39mself\u001b[39m\u001b[39m.\u001b[39mcolumns\n\u001b[0;32m   4156\u001b[0m         \u001b[39mand\u001b[39;00m value\u001b[39m.\u001b[39mndim \u001b[39m==\u001b[39m \u001b[39m1\u001b[39m\n\u001b[0;32m   4157\u001b[0m         \u001b[39mand\u001b[39;00m \u001b[39mnot\u001b[39;00m is_extension_array_dtype(value)\n\u001b[0;32m   4158\u001b[0m     ):\n\u001b[0;32m   4159\u001b[0m         \u001b[39m# broadcast across multiple columns if necessary\u001b[39;00m\n\u001b[0;32m   4160\u001b[0m         \u001b[39mif\u001b[39;00m \u001b[39mnot\u001b[39;00m \u001b[39mself\u001b[39m\u001b[39m.\u001b[39mcolumns\u001b[39m.\u001b[39mis_unique \u001b[39mor\u001b[39;00m \u001b[39misinstance\u001b[39m(\u001b[39mself\u001b[39m\u001b[39m.\u001b[39mcolumns, MultiIndex):\n",
      "File \u001b[1;32m~\\AppData\\Roaming\\Python\\Python310\\site-packages\\pandas\\core\\frame.py:4878\u001b[0m, in \u001b[0;36mDataFrame._sanitize_column\u001b[1;34m(self, value)\u001b[0m\n\u001b[0;32m   4875\u001b[0m     \u001b[39mreturn\u001b[39;00m _reindex_for_setitem(Series(value), \u001b[39mself\u001b[39m\u001b[39m.\u001b[39mindex)\n\u001b[0;32m   4877\u001b[0m \u001b[39mif\u001b[39;00m is_list_like(value):\n\u001b[1;32m-> 4878\u001b[0m     com\u001b[39m.\u001b[39;49mrequire_length_match(value, \u001b[39mself\u001b[39;49m\u001b[39m.\u001b[39;49mindex)\n\u001b[0;32m   4879\u001b[0m \u001b[39mreturn\u001b[39;00m sanitize_array(value, \u001b[39mself\u001b[39m\u001b[39m.\u001b[39mindex, copy\u001b[39m=\u001b[39m\u001b[39mTrue\u001b[39;00m, allow_2d\u001b[39m=\u001b[39m\u001b[39mTrue\u001b[39;00m)\n",
      "File \u001b[1;32m~\\AppData\\Roaming\\Python\\Python310\\site-packages\\pandas\\core\\common.py:576\u001b[0m, in \u001b[0;36mrequire_length_match\u001b[1;34m(data, index)\u001b[0m\n\u001b[0;32m    572\u001b[0m \u001b[39m\"\"\"\u001b[39;00m\n\u001b[0;32m    573\u001b[0m \u001b[39mCheck the length of data matches the length of the index.\u001b[39;00m\n\u001b[0;32m    574\u001b[0m \u001b[39m\"\"\"\u001b[39;00m\n\u001b[0;32m    575\u001b[0m \u001b[39mif\u001b[39;00m \u001b[39mlen\u001b[39m(data) \u001b[39m!=\u001b[39m \u001b[39mlen\u001b[39m(index):\n\u001b[1;32m--> 576\u001b[0m     \u001b[39mraise\u001b[39;00m \u001b[39mValueError\u001b[39;00m(\n\u001b[0;32m    577\u001b[0m         \u001b[39m\"\u001b[39m\u001b[39mLength of values \u001b[39m\u001b[39m\"\u001b[39m\n\u001b[0;32m    578\u001b[0m         \u001b[39mf\u001b[39m\u001b[39m\"\u001b[39m\u001b[39m(\u001b[39m\u001b[39m{\u001b[39;00m\u001b[39mlen\u001b[39m(data)\u001b[39m}\u001b[39;00m\u001b[39m) \u001b[39m\u001b[39m\"\u001b[39m\n\u001b[0;32m    579\u001b[0m         \u001b[39m\"\u001b[39m\u001b[39mdoes not match length of index \u001b[39m\u001b[39m\"\u001b[39m\n\u001b[0;32m    580\u001b[0m         \u001b[39mf\u001b[39m\u001b[39m\"\u001b[39m\u001b[39m(\u001b[39m\u001b[39m{\u001b[39;00m\u001b[39mlen\u001b[39m(index)\u001b[39m}\u001b[39;00m\u001b[39m)\u001b[39m\u001b[39m\"\u001b[39m\n\u001b[0;32m    581\u001b[0m     )\n",
      "\u001b[1;31mValueError\u001b[0m: Length of values (4) does not match length of index (5)"
     ]
    }
   ],
   "source": [
    "ImageUrl=['https://media.brstatic.com/2017/04/06171330/ed-sheeran-networth-mst.jpg','https://static.cinemagia.ro/img/db/actor/56/48/69/ariana-grande-826821l.jpg',\n",
    "          'https://3.bp.blogspot.com/-qDfAM31MRnM/V_iBA1VZJlI/AAAAAAAAEhA/GKloBO7Bkx47O7c-vY3cD09E1-7iA2aHwCLcB/s1600/arijit-singh.jpg','https://specials-images.forbesimg.com/imageserve/1164343505/960x0.jpg?fit=scale',\n",
    "          'https://th.bing.com/th/id/OIP.g3UUJOoDAKEpbv2pFqvEqwHaEK?pid=ImgDet&rs=1']\n",
    "df2['Image_Url']=ImageUrl"
   ]
  }
 ],
 "metadata": {
  "kernelspec": {
   "display_name": "Python 3",
   "language": "python",
   "name": "python3"
  },
  "language_info": {
   "codemirror_mode": {
    "name": "ipython",
    "version": 3
   },
   "file_extension": ".py",
   "mimetype": "text/x-python",
   "name": "python",
   "nbconvert_exporter": "python",
   "pygments_lexer": "ipython3",
   "version": "3.10.9"
  }
 },
 "nbformat": 4,
 "nbformat_minor": 2
}
